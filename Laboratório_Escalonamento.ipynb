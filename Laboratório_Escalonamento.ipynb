{
  "nbformat": 4,
  "nbformat_minor": 0,
  "metadata": {
    "kernelspec": {
      "display_name": "Python 3",
      "language": "python",
      "name": "python3"
    },
    "language_info": {
      "codemirror_mode": {
        "name": "ipython",
        "version": 3
      },
      "file_extension": ".py",
      "mimetype": "text/x-python",
      "name": "python",
      "nbconvert_exporter": "python",
      "pygments_lexer": "ipython3",
      "version": "3.6.1"
    },
    "colab": {
      "name": "Laboratório Escalonamento.ipynb",
      "provenance": []
    }
  },
  "cells": [
    {
      "cell_type": "markdown",
      "metadata": {
        "id": "t1B1lQ1sXJKr",
        "colab_type": "text"
      },
      "source": [
        "### Laboratorio de Escalonamento ###\n",
        "\n",
        "Neste laboratório, iremos simular o funcionamento de algoritmos de escalonamento básicos para entender melhor seu funcionamento.\n",
        "\n",
        "Na célula abaixo, temos uma classe Processo, que tem as informações de execução, e uma classe de exemplo de escalonamento apenas com os protótipos:\n",
        "\n",
        "(orientação a objeto em Python)"
      ]
    },
    {
      "cell_type": "code",
      "metadata": {
        "id": "CKLCRHZhXJKs",
        "colab_type": "code",
        "colab": {}
      },
      "source": [
        "import numpy as np\n",
        "import random\n",
        "\n",
        "class Processo(object):\n",
        "    def __init__(self,pnome,pio,ptam,prioridade,tempoChegada):\n",
        "        self.nome = pnome\n",
        "        self.io = pio # Probabilidade de fazer E/S, inicialmente zero\n",
        "        self.tam = ptam # Quantos Timeslices sao necessarios para terminar\n",
        "        self.prio = prioridade # Prioridade, eh desnecessaria aora \n",
        "        self.chegada = 0\n",
        "\n",
        "    def roda(self,quantum=None): # se rodar sem quantum, o processor roda ate o fim\n",
        "        if(random.randint(1,100)<self.io): #Verifica se fez E/S\n",
        "            self.tam-=1\n",
        "            print(self.nome,\" fez e/s, falta \",self.tam)\n",
        "            return 1, True #True que fez E/S\n",
        "            \n",
        "            \n",
        "        if(quantum is None or self.tam<quantum):\n",
        "            quantum = self.tam\n",
        "        self.tam -=quantum\n",
        "        print(self.nome,\" rodou por \",quantum,\" timeslice, faltam \",self.tam)\n",
        "        return quantum, False # False se nao fez E/S\n",
        "    \n",
        "\n",
        "class escalonador(object): # Protótipo de escalonador de exemplo\n",
        "    def __init__(self,vprontos=[]):\n",
        "        self.prontos = vprontos #processos que cheam ao tempo zero\n",
        "\n",
        "    def pronto(self,Processo):\n",
        "        # implemente aqui o que escalonador faz quando surge um novo processo pronto\n",
        "        \n",
        "    def proximo(self):\n",
        "        # implemente aqui a politica de escalonamento para definir um processo a ser executado\n",
        "        return p #processo p eh escolhido\n",
        "\n"
      ],
      "execution_count": 0,
      "outputs": []
    },
    {
      "cell_type": "markdown",
      "metadata": {
        "id": "14846ZyfXJKx",
        "colab_type": "text"
      },
      "source": [
        "Na célula abaixo, são criados quatro processos completamente CPU-Bound que precisam de 3 timeslices para rodar.\n",
        "\n",
        "O valor de E/S é um número entre 0 e 100 indicando quantos porcento de chance o processo tem de fazer E/S durante seu tempo na CPU"
      ]
    },
    {
      "cell_type": "code",
      "metadata": {
        "id": "Rc4wVHA4XJKx",
        "colab_type": "code",
        "colab": {}
      },
      "source": [
        "nprocs = 4\n",
        "nomes = ['A','B','C','D']\n",
        "chanceio = [0,0,0,0] #Valor de zero a cem, chance de ser entrada e saida por enquanto deixem em zero\n",
        "tamanho = np.array([3,3,3,3])\n",
        "\n",
        "\n",
        "total = tamanho.sum()\n",
        "\n",
        "procs = []\n",
        "for i in range(nprocs):\n",
        "    procs.append(Processo(nomes[i],chanceio[i],tamanho[i],0,0)) #cria uma lista procs de Processos"
      ],
      "execution_count": 0,
      "outputs": []
    },
    {
      "cell_type": "markdown",
      "metadata": {
        "id": "VkfIM_1iXJK0",
        "colab_type": "text"
      },
      "source": [
        "Na célula abaixo, temos uma simulação do funcionamento de um escalonador de processos. As duas configurações importantes aqui são o valor do quantum padrão (que pode ser dinamico em algoritmos mais complexos, e quantos timeslices um processo que faz e/s passa bloqueado.\n",
        "\n",
        "Percebam que na terceira linha é instanciado o escalonador (neste caso, um round_robin). Isto foi feito assim para ser simples trocar o escalonador e repetir a simulação, bastando criar uma classe com os métodos pronto, proximo e construtor e alterar esta linha."
      ]
    },
    {
      "cell_type": "code",
      "metadata": {
        "id": "7LPgBMrXXJK1",
        "colab_type": "code",
        "colab": {}
      },
      "source": [
        "quantum = 2\n",
        "tempoBloq = 1\n",
        "\n",
        "escalonador = escalonador(procs) #troque escalonador pelo seu escalonador\n",
        "bloqueados = []\n",
        "\n",
        "tempo = 0\n",
        "\n",
        "random.seed(0)\n",
        "\n",
        "while total>0:\n",
        "    p = escalonador.proximo()\n",
        "    if(p is not None):\n",
        "        rodou, _ = p.roda() #adicione quantum como parâmetro, por enquanto nao temos E/S\n",
        "        \n",
        "        if(p.tam>0):\n",
        "            escalonador.pronto(p)\n",
        "        total-=rodou\n",
        "        tempo+=rodou\n",
        "    else:\n",
        "        #Reduz o tempo de todos os bloqueados em uma unidade se nao havia ninguem pronto\n",
        "        tempo+=1\n",
        "\n",
        "\n",
        "    "
      ],
      "execution_count": 0,
      "outputs": []
    },
    {
      "cell_type": "markdown",
      "metadata": {
        "id": "l-WBMAKhXJK4",
        "colab_type": "text"
      },
      "source": [
        "### Laboratório: ###\n",
        "\n",
        "\n",
        "1 - Altere o simulador acima para calcular o tempo de execucao medio e tempo de resposta \n",
        "\n",
        "2 - Implemente o escalonador por FIFO e SJF e verifique seus tempos de execução e espera.\n",
        "\n",
        "3 - Faça em outra célula uma implementação do STCF e Round Robin, alterando o p.roda() para receber o quantum\n"
      ]
    },
    {
      "cell_type": "markdown",
      "metadata": {
        "id": "G5T25EzaXJK5",
        "colab_type": "text"
      },
      "source": [
        "Na segunda feira (15) haverá um questionário no ColabWeb onde você deverá utilizar suas implementações para responder às perguntas. Na terça de manhã farei uma breve conferência para tirar dúvidas."
      ]
    },
    {
      "cell_type": "code",
      "metadata": {
        "id": "BlxysVYbuuDX",
        "colab_type": "code",
        "colab": {}
      },
      "source": [
        ""
      ],
      "execution_count": 0,
      "outputs": []
    }
  ]
}